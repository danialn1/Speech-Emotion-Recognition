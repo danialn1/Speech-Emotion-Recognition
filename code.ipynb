{
  "cells": [
    {
      "cell_type": "markdown",
      "metadata": {
        "id": "SQ5A7gNmcDol"
      },
      "source": [
        "## FEATURES USED"
      ]
    },
    {
      "cell_type": "markdown",
      "metadata": {
        "id": "YjSpDNu9cDon"
      },
      "source": [
        "### MFCC\n",
        "### Chroma\n",
        "### Mel Spectrogram\n",
        "### Contrast Spectrogram\n",
        "### Tonnetz"
      ]
    },
    {
      "cell_type": "code",
      "execution_count": null,
      "metadata": {
        "id": "ilBEok69cDor",
        "outputId": "f3886c7a-1ee4-4f2e-8532-119025000dcc"
      },
      "outputs": [
        {
          "name": "stderr",
          "output_type": "stream",
          "text": [
            "C:\\Users\\Home\\AppData\\Local\\Programs\\Python\\Python39\\lib\\site-packages\\librosa\\core\\spectrum.py:222: UserWarning: n_fft=1024 is too small for input signal of length=690\n",
            "  warnings.warn(\n",
            "C:\\Users\\Home\\AppData\\Local\\Programs\\Python\\Python39\\lib\\site-packages\\librosa\\core\\spectrum.py:222: UserWarning: n_fft=1024 is too small for input signal of length=684\n",
            "  warnings.warn(\n",
            "C:\\Users\\Home\\AppData\\Local\\Programs\\Python\\Python39\\lib\\site-packages\\librosa\\core\\spectrum.py:222: UserWarning: n_fft=1024 is too small for input signal of length=342\n",
            "  warnings.warn(\n"
          ]
        }
      ],
      "source": [
        "import glob\n",
        "import librosa\n",
        "import soundfile as sf\n",
        "import numpy as np\n",
        "import seaborn as sns\n",
        "test_emotions=[]\n",
        "train_emotions=[]\n",
        "angry=[]\n",
        "happy=[]\n",
        "neutral=[]\n",
        "sad=[]\n",
        "label=[]\n",
        "label1=[]\n",
        "label2=[]\n",
        "for sound in glob.glob('C:/Users/Home/SERDataset/Test/Angry/*'):\n",
        "    y,sr=sf.read(sound)\n",
        "    mfcc=np.mean(librosa.feature.mfcc(y=y,sr=sr,n_mfcc=45).T,axis=0)\n",
        "    tonnetz=np.mean(librosa.feature.tonnetz(y=y,sr=sr).T,axis=0)\n",
        "    mel=np.mean(librosa.feature.melspectrogram(y=y,sr=sr).T,axis=0)\n",
        "    contrast=np.mean(librosa.feature.spectral_contrast(y=y,sr=sr).T,axis=0)\n",
        "    chroma=np.mean(librosa.feature.chroma_stft(y=y,sr=sr).T,axis=0)\n",
        "    stack=np.hstack((mfcc, chroma, mel, contrast, tonnetz))\n",
        "    angry.append(stack)\n",
        "    test_emotions.append(stack)\n",
        "    label.append(\"Angry\")\n",
        "    label1.append('Angry')\n",
        "for sound in glob.glob('C:/Users/Home/SERDataset/Train/Angry/*'):\n",
        "    y,sr=sf.read(sound)\n",
        "    mfcc=np.mean(librosa.feature.mfcc(y=y,sr=sr,n_mfcc=45).T,axis=0)\n",
        "    tonnetz=np.mean(librosa.feature.tonnetz(y=y,sr=sr).T,axis=0)\n",
        "    mel=np.mean(librosa.feature.melspectrogram(y=y,sr=sr).T,axis=0)\n",
        "    contrast=np.mean(librosa.feature.spectral_contrast(y=y,sr=sr).T,axis=0)\n",
        "    chroma=np.mean(librosa.feature.chroma_stft(y=y,sr=sr).T,axis=0)\n",
        "    stack=np.hstack((mfcc, chroma, mel, contrast, tonnetz))\n",
        "    angry.append(stack)\n",
        "    train_emotions.append(stack)\n",
        "    label.append(\"Angry\")    \n",
        "    label2.append('Angry')\n",
        "for sound in glob.glob('C:/Users/Home/SERDataset/Test/Happy/*'):\n",
        "    y,sr=sf.read(sound)\n",
        "    mfcc=np.mean(librosa.feature.mfcc(y=y,sr=sr,n_mfcc=45).T,axis=0)\n",
        "    tonnetz=np.mean(librosa.feature.tonnetz(y=y,sr=sr).T,axis=0)\n",
        "    mel=np.mean(librosa.feature.melspectrogram(y=y,sr=sr).T,axis=0)\n",
        "    contrast=np.mean(librosa.feature.spectral_contrast(y=y,sr=sr).T,axis=0)\n",
        "    chroma=np.mean(librosa.feature.chroma_stft(y=y,sr=sr).T,axis=0)\n",
        "    stack=np.hstack((mfcc, chroma, mel, contrast, tonnetz))\n",
        "    happy.append(stack)\n",
        "    test_emotions.append(stack)\n",
        "    label.append(\"Happy\")\n",
        "    label1.append('Happy')\n",
        "for sound in glob.glob('C:/Users/Home/SERDataset/Train/Happy/*'):\n",
        "    y,sr=sf.read(sound)\n",
        "    mfcc=np.mean(librosa.feature.mfcc(y=y,sr=sr,n_mfcc=45).T,axis=0)\n",
        "    tonnetz=np.mean(librosa.feature.tonnetz(y=y,sr=sr).T,axis=0)\n",
        "    mel=np.mean(librosa.feature.melspectrogram(y=y,sr=sr).T,axis=0)\n",
        "    contrast=np.mean(librosa.feature.spectral_contrast(y=y,sr=sr).T,axis=0)\n",
        "    chroma=np.mean(librosa.feature.chroma_stft(y=y,sr=sr).T,axis=0)\n",
        "    stack=np.hstack((mfcc, chroma, mel, contrast, tonnetz))\n",
        "    happy.append(stack)\n",
        "    train_emotions.append(stack)\n",
        "    label.append(\"Happy\") \n",
        "    label2.append('Happy')\n",
        "for sound in glob.glob('C:/Users/Home/SERDataset/Test/Sad/*'):\n",
        "    y,sr=sf.read(sound)\n",
        "    mfcc=np.mean(librosa.feature.mfcc(y=y,sr=sr,n_mfcc=45).T,axis=0)\n",
        "    tonnetz=np.mean(librosa.feature.tonnetz(y=y,sr=sr).T,axis=0)\n",
        "    mel=np.mean(librosa.feature.melspectrogram(y=y,sr=sr).T,axis=0)\n",
        "    contrast=np.mean(librosa.feature.spectral_contrast(y=y,sr=sr).T,axis=0)\n",
        "    chroma=np.mean(librosa.feature.chroma_stft(y=y,sr=sr).T,axis=0)\n",
        "    stack=np.hstack((mfcc, chroma, mel, contrast, tonnetz))\n",
        "    sad.append(stack)\n",
        "    test_emotions.append(stack)\n",
        "    label.append(\"Sad\")\n",
        "    label1.append('Sad')\n",
        "for sound in glob.glob('C:/Users/Home/SERDataset/Train/Sad/*'):\n",
        "    y,sr=sf.read(sound)\n",
        "    mfcc=np.mean(librosa.feature.mfcc(y=y,sr=sr,n_mfcc=45).T,axis=0)\n",
        "    tonnetz=np.mean(librosa.feature.tonnetz(y=y,sr=sr).T,axis=0)\n",
        "    mel=np.mean(librosa.feature.melspectrogram(y=y,sr=sr).T,axis=0)\n",
        "    contrast=np.mean(librosa.feature.spectral_contrast(y=y,sr=sr).T,axis=0)\n",
        "    chroma=np.mean(librosa.feature.chroma_stft(y=y,sr=sr).T,axis=0)\n",
        "    stack=np.hstack((mfcc, chroma, mel, contrast, tonnetz))\n",
        "    sad.append(stack)\n",
        "    train_emotions.append(stack)\n",
        "    label.append(\"Sad\")  \n",
        "    label2.append('Sad')\n",
        "for sound in glob.glob('C:/Users/Home/SERDataset/Test/Neutral/*'):\n",
        "    y,sr=sf.read(sound)\n",
        "    mfcc=np.mean(librosa.feature.mfcc(y=y,sr=sr,n_mfcc=45).T,axis=0)\n",
        "    tonnetz=np.mean(librosa.feature.tonnetz(y=y,sr=sr).T,axis=0)\n",
        "    mel=np.mean(librosa.feature.melspectrogram(y=y,sr=sr).T,axis=0)\n",
        "    contrast=np.mean(librosa.feature.spectral_contrast(y=y,sr=sr).T,axis=0)\n",
        "    chroma=np.mean(librosa.feature.chroma_stft(y=y,sr=sr).T,axis=0)\n",
        "    stack=np.hstack((mfcc, chroma, mel, contrast, tonnetz))\n",
        "    neutral.append(stack)\n",
        "    test_emotions.append(stack)\n",
        "    label.append(\"Neutral\")\n",
        "    label1.append('Neutral')\n",
        "for sound in glob.glob('C:/Users/Home/SERDataset/Train/Neutral/*'):\n",
        "    y,sr=sf.read(sound)\n",
        "    mfcc=np.mean(librosa.feature.mfcc(y=y,sr=sr,n_mfcc=45).T,axis=0)\n",
        "    tonnetz=np.mean(librosa.feature.tonnetz(y=y,sr=sr).T,axis=0)\n",
        "    mel=np.mean(librosa.feature.melspectrogram(y=y,sr=sr).T,axis=0)\n",
        "    contrast=np.mean(librosa.feature.spectral_contrast(y=y,sr=sr).T,axis=0)\n",
        "    chroma=np.mean(librosa.feature.chroma_stft(y=y,sr=sr).T,axis=0)\n",
        "    stack=np.hstack((mfcc, chroma, mel, contrast, tonnetz))\n",
        "    neutral.append(stack)\n",
        "    train_emotions.append(stack)\n",
        "    label.append(\"Neutral\") \n",
        "    label2.append('Neutral')\n",
        "all=[]\n",
        "for a in angry:\n",
        "    all.append(a)\n",
        "for h in happy:\n",
        "    all.append(h)\n",
        "for s in sad:\n",
        "    all.append(s)\n",
        "for n in neutral:\n",
        "    all.append(n)\n",
        "left=[]\n",
        "right=[]\n",
        "xlist=[]\n",
        "ylist=[]\n",
        "counter=1\n",
        "for row in all:\n",
        "    a=row.shape[0]//2\n",
        "    left=[]\n",
        "    right=[]\n",
        "    counter=1\n",
        "    for r in row:\n",
        "        if(counter<=a):\n",
        "            left.append(r)\n",
        "        else:\n",
        "            right.append(r)\n",
        "        counter+=1\n",
        "    xlist.append(np.mean(left))  \n",
        "    ylist.append(np.mean(right))"
      ]
    },
    {
      "cell_type": "markdown",
      "metadata": {
        "id": "ICo0-OdqcDo3"
      },
      "source": [
        "# Model Training"
      ]
    },
    {
      "cell_type": "code",
      "execution_count": null,
      "metadata": {
        "id": "3FhCyghlcDo5",
        "outputId": "9f714e0f-d736-479d-c656-13eee8bd56e8"
      },
      "outputs": [
        {
          "data": {
            "text/plain": [
              "SVC(C=10000000000.0, kernel='linear')"
            ]
          },
          "execution_count": 21,
          "metadata": {},
          "output_type": "execute_result"
        }
      ],
      "source": [
        "from sklearn.svm import SVC\n",
        "model=SVC(kernel='linear',C=1E10)\n",
        "model.fit(train_emotions,label2)"
      ]
    },
    {
      "cell_type": "markdown",
      "metadata": {
        "id": "LPLvtqVMcDo8"
      },
      "source": [
        "# Scatterplot of first and second half"
      ]
    },
    {
      "cell_type": "code",
      "execution_count": null,
      "metadata": {
        "id": "rfUNQQUFcDo-",
        "outputId": "d6456772-fc9b-4f0c-d9cc-c5f4aa9a0c5f"
      },
      "outputs": [
        {
          "data": {
            "text/plain": [
              "<AxesSubplot:xlabel='X-axis', ylabel='Y-axis'>"
            ]
          },
          "execution_count": 26,
          "metadata": {},
          "output_type": "execute_result"
        },
        {
          "data": {
            "image/png": "[encoded data removed]",
            "text/plain": [
              "<Figure size 432x288 with 1 Axes>"
            ]
          },
          "metadata": {
            "needs_background": "light"
          },
          "output_type": "display_data"
        }
      ],
      "source": [
        "import pandas as pd\n",
        "df=pd.DataFrame(xlist, columns=['X-axis'])\n",
        "df['Y-axis']=ylist\n",
        "sns.scatterplot(data=df,x='X-axis',y='Y-axis',hue=label,palette=['C13','C12','C7','C8'])"
      ]
    },
    {
      "cell_type": "markdown",
      "metadata": {
        "id": "GO0b0mGjcDpA"
      },
      "source": [
        "# Accuracy"
      ]
    },
    {
      "cell_type": "code",
      "execution_count": null,
      "metadata": {
        "id": "O-_EvtUZcDpC",
        "outputId": "9ef05eb7-21cf-4443-b6bf-adc88e3fbfe2"
      },
      "outputs": [
        {
          "data": {
            "text/plain": [
              "1.0"
            ]
          },
          "execution_count": 23,
          "metadata": {},
          "output_type": "execute_result"
        }
      ],
      "source": [
        "from sklearn.metrics import accuracy_score\n",
        "myModel=model.predict(test_emotions)\n",
        "accuracy_score(label1,myModel)"
      ]
    },
    {
      "cell_type": "markdown",
      "metadata": {
        "id": "mtaSiRZkcDpE"
      },
      "source": [
        "# Output of predicted emotion"
      ]
    },
    {
      "cell_type": "code",
      "execution_count": null,
      "metadata": {
        "id": "fsO9VP_ycDpF",
        "outputId": "774fe31f-4581-47f0-a9e2-e0c3d00ca108"
      },
      "outputs": [
        {
          "data": {
            "text/plain": [
              "'Sad'"
            ]
          },
          "execution_count": 24,
          "metadata": {},
          "output_type": "execute_result"
        }
      ],
      "source": [
        "y,sr=sf.read(\"SERDataset/Test/Sad/SM25_F34_S084.wav\")\n",
        "mfcc=np.mean(librosa.feature.mfcc(y=y,sr=sr,n_mfcc=45).T,axis=0)\n",
        "tonnetz=np.mean(librosa.feature.tonnetz(y=y,sr=sr).T,axis=0)\n",
        "mel=np.mean(librosa.feature.melspectrogram(y=y,sr=sr).T,axis=0)\n",
        "contrast=np.mean(librosa.feature.spectral_contrast(y=y,sr=sr).T,axis=0)\n",
        "chroma=np.mean(librosa.feature.chroma_stft(y=y,sr=sr).T,axis=0)\n",
        "stack=np.hstack((mfcc, chroma, mel, contrast, tonnetz))\n",
        "Result=model.predict(stack.reshape([1,-1]))\n",
        "Result[0]"
      ]
    }
  ],
  "metadata": {
    "kernelspec": {
      "display_name": "Python 3",
      "language": "python",
      "name": "python3"
    },
    "language_info": {
      "codemirror_mode": {
        "name": "ipython",
        "version": 3
      },
      "file_extension": ".py",
      "mimetype": "text/x-python",
      "name": "python",
      "nbconvert_exporter": "python",
      "pygments_lexer": "ipython3",
      "version": "3.9.1"
    },
    "colab": {
      "provenance": []
    }
  },
  "nbformat": 4,
  "nbformat_minor": 0
}